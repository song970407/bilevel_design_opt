{
 "cells": [
  {
   "cell_type": "code",
   "execution_count": 10,
   "id": "f0bc59da",
   "metadata": {},
   "outputs": [],
   "source": [
    "import os\n",
    "import pickle\n",
    "\n",
    "import numpy as np"
   ]
  },
  {
   "cell_type": "code",
   "execution_count": 2,
   "id": "b54b9302",
   "metadata": {},
   "outputs": [
    {
     "name": "stdout",
     "output_type": "stream",
     "text": [
      "dict_keys(['opt_action_pos', 'opt_log'])\n",
      "dict_keys(['x_trajectory_list', 'u_trajectory_list', 'log_trajectory_list'])\n"
     ]
    }
   ],
   "source": [
    "cma_es_path = 'bilevel_opt_result/cma_es/3_5.pkl'\n",
    "cma_es = pickle.load(open(cma_es_path, 'rb'))\n",
    "print(cma_es.keys())\n",
    "optimal_cma_es_path = 'bilevel_opt_result/optimal/cma_es/optimal_result_3_5.pkl'\n",
    "optimal_cma_es = pickle.load(open(optimal_cma_es_path, 'rb'))\n",
    "print(optimal_cma_es.keys())"
   ]
  },
  {
   "cell_type": "code",
   "execution_count": 3,
   "id": "ec34fbce",
   "metadata": {
    "scrolled": true
   },
   "outputs": [
    {
     "name": "stdout",
     "output_type": "stream",
     "text": [
      "torch.Size([5, 2])\n",
      "tensor([[-0.8000,  0.8000],\n",
      "        [ 0.6759, -0.3755],\n",
      "        [-0.8000, -0.4952],\n",
      "        [ 0.4774,  0.8000],\n",
      "        [ 0.3750, -0.8000]], device='cuda:0')\n",
      "dict_keys(['total_loss_trajectory', 'position_trajectory', 'us_trajectory', 'lower_level_log_trajectory', 'best_idx', 'best_loss', 'best_position', 'best_us'])\n"
     ]
    }
   ],
   "source": [
    "opt_action_pos = cma_es['opt_action_pos']\n",
    "opt_log = cma_es['opt_log']\n",
    "print(opt_action_pos.shape)\n",
    "print(opt_action_pos)\n",
    "print(opt_log.keys())"
   ]
  },
  {
   "cell_type": "code",
   "execution_count": 4,
   "id": "20d004fa",
   "metadata": {},
   "outputs": [
    {
     "name": "stdout",
     "output_type": "stream",
     "text": [
      "total_loss_trajectory\n",
      "(100, 10)\n",
      "position_trajectory\n",
      "(100, 10, 5, 2)\n",
      "us_trajectory\n",
      "(100, 10, 160, 24, 1)\n",
      "lower_level_log_trajectory\n",
      "100\n",
      "best_idx\n",
      "99\n",
      "best_loss\n",
      "0.7135311539750546\n",
      "best_position\n",
      "torch.Size([5, 2])\n",
      "best_us\n",
      "(160, 24, 1)\n"
     ]
    }
   ],
   "source": [
    "for key in opt_log.keys():\n",
    "    print(key)\n",
    "    if key == 'lower_level_log_trajectory':\n",
    "        print(len(opt_log[key]))\n",
    "    elif key == 'best_idx' or key == 'best_loss':\n",
    "        print(opt_log[key])\n",
    "    else:\n",
    "        print(opt_log[key].shape)"
   ]
  },
  {
   "cell_type": "code",
   "execution_count": 5,
   "id": "cfc5cb06",
   "metadata": {},
   "outputs": [
    {
     "name": "stdout",
     "output_type": "stream",
     "text": [
      "dict_keys(['prev_graph', 'optimized_graph', 'design_opt_log'])\n",
      "dict_keys(['x_trajectory_list', 'u_trajectory_list', 'log_trajectory_list'])\n"
     ]
    }
   ],
   "source": [
    "bilevel_path = 'design_opt_experiment/bilevel/3_5/design_opt_experiment_result_ICGAT_1.0_0.pkl'\n",
    "bilevel = pickle.load(open(bilevel_path, 'rb'))\n",
    "optimal_bilevel_path = 'design_opt_experiment/bilevel/optimal/3_5/optimal_experiment_result_ICGAT_1.0_0.pkl'\n",
    "optimal_bilevel = pickle.load(open(optimal_bilevel_path, 'rb'))\n",
    "print(bilevel.keys())\n",
    "print(optimal_bilevel.keys())"
   ]
  },
  {
   "cell_type": "code",
   "execution_count": 6,
   "id": "83e44067",
   "metadata": {},
   "outputs": [
    {
     "name": "stdout",
     "output_type": "stream",
     "text": [
      "torch.Size([5, 2])\n",
      "tensor([[-0.4253, -0.7466],\n",
      "        [ 0.6062, -0.6960],\n",
      "        [ 0.3234,  0.7707],\n",
      "        [-0.7543, -0.3374],\n",
      "        [ 0.7763,  0.4259]])\n",
      "dict_keys(['total_loss_trajectory', 'position_trajectory', 'us_trajectory', 'lower_level_log_trajectory', 'best_idx', 'best_loss', 'best_position', 'best_us'])\n"
     ]
    }
   ],
   "source": [
    "print(bilevel['optimized_graph'].nodes['action'].data['pos'].shape)\n",
    "print(bilevel['optimized_graph'].nodes['action'].data['pos'])\n",
    "print(bilevel['design_opt_log'].keys())"
   ]
  },
  {
   "cell_type": "code",
   "execution_count": 7,
   "id": "341598c0",
   "metadata": {
    "scrolled": true
   },
   "outputs": [
    {
     "name": "stdout",
     "output_type": "stream",
     "text": [
      "total_loss_trajectory\n",
      "(101,)\n",
      "position_trajectory\n",
      "(101, 5, 2)\n",
      "us_trajectory\n",
      "(101, 160, 24, 1)\n",
      "lower_level_log_trajectory\n",
      "101\n",
      "best_idx\n",
      "97\n",
      "best_loss\n",
      "1.1030357480049133\n",
      "best_position\n",
      "(5, 2)\n",
      "best_us\n",
      "(160, 24, 1)\n"
     ]
    }
   ],
   "source": [
    "for key in bilevel['design_opt_log'].keys():\n",
    "    print(key)\n",
    "    if key == 'lower_level_log_trajectory':\n",
    "        print(len(bilevel['design_opt_log'][key]))\n",
    "    elif key == 'best_idx' or key == 'best_loss':\n",
    "        print(bilevel['design_opt_log'][key])\n",
    "    else:\n",
    "        print(bilevel['design_opt_log'][key].shape)"
   ]
  },
  {
   "cell_type": "code",
   "execution_count": 31,
   "id": "34217dbf",
   "metadata": {},
   "outputs": [],
   "source": [
    "solver_names = ['bilevel']\n",
    "new_solver_names = ['implicit']\n",
    "num_x_list = [3, 4, 5]\n",
    "num_heaters_list = [5, 10, 15, 20]\n",
    "model_names = ['ICGAT', 'GAT']\n",
    "num_repeats = 10\n",
    "\n",
    "for (solver_name, new_solver_name) in zip(solver_names, new_solver_names):\n",
    "    for model_name in model_names:\n",
    "        if not os.path.exists('bilevel_opt_result/{}_{}'.format(new_solver_name, model_name)):\n",
    "            os.makedirs('bilevel_opt_result/{}_{}'.format(new_solver_name, model_name))\n",
    "        if not os.path.exists('bilevel_opt_result/optimal/{}_{}'.format(new_solver_name, model_name)):\n",
    "            os.makedirs('bilevel_opt_result/optimal/{}_{}'.format(new_solver_name, model_name))\n",
    "        for num_x in num_x_list:\n",
    "            for num_heaters in num_heaters_list:\n",
    "                design_opt_log = {}\n",
    "                design_opt_log['total_loss_trajectory'] = []\n",
    "                design_opt_log['position_trajectory'] = []\n",
    "                design_opt_log['us_trajectory'] = []\n",
    "                design_opt_log['lower_level_log_trajectory'] = []\n",
    "                design_opt_log['best_idx'] = None\n",
    "                design_opt_log['best_loss'] = float('inf')\n",
    "                design_opt_log['best_position'] = []\n",
    "                design_opt_log['best_us'] = []\n",
    "                \n",
    "                for idx in range(num_repeats):\n",
    "                    design_opt_experiment_path = 'design_opt_experiment/{}/{}_{}/design_opt_experiment_result_{}_1.0_{}.pkl'.format(solver_name, num_x, num_heaters, model_name, idx)\n",
    "                    design_opt_experiment = pickle.load(open(design_opt_experiment_path, 'rb'))['design_opt_log']                    \n",
    "                    design_opt_log['total_loss_trajectory'].append(design_opt_experiment['total_loss_trajectory'])\n",
    "                    design_opt_log['position_trajectory'].append(design_opt_experiment['position_trajectory'])\n",
    "                    design_opt_log['us_trajectory'].append(design_opt_experiment['us_trajectory'])\n",
    "                    design_opt_log['lower_level_log_trajectory'].append(design_opt_experiment['lower_level_log_trajectory'])\n",
    "                    if design_opt_experiment['best_loss'] < design_opt_log['best_loss']:\n",
    "                        design_opt_log['best_loss'] = design_opt_experiment['best_loss']\n",
    "                        design_opt_log['best_idx'] = np.array([idx, design_opt_experiment['best_idx']])\n",
    "                    design_opt_log['best_position'].append(design_opt_experiment['best_position'])\n",
    "                    design_opt_log['best_us'].append(design_opt_experiment['best_us'])\n",
    "                    \n",
    "                design_opt_log['total_loss_trajectory'] = np.stack(design_opt_log['total_loss_trajectory'], axis=1)\n",
    "                design_opt_log['position_trajectory'] = np.stack(design_opt_log['position_trajectory'], axis=1)\n",
    "                design_opt_log['us_trajectory'] = np.stack(design_opt_log['us_trajectory'], axis=1)\n",
    "                design_opt_log['best_position'].append(design_opt_experiment['best_position'])\n",
    "                design_opt_log['best_us'].append(design_opt_experiment['best_us'])\n",
    "                \n",
    "                design_opt_experiment_path = 'design_opt_experiment/{}/{}_{}/design_opt_experiment_result_{}_1.0_{}.pkl'.format(solver_name, num_x, num_heaters, model_name, design_opt_log['best_idx'][0])\n",
    "                design_opt_experiment = pickle.load(open(design_opt_experiment_path, 'rb'))\n",
    "                \n",
    "                opt_action_pos = design_opt_experiment['optimized_graph'].nodes['action'].data['pos']\n",
    "                opt_result_log = {\n",
    "                    'opt_action_pos': opt_action_pos,\n",
    "                    'design_opt_log': design_opt_log\n",
    "                }\n",
    "                saved_path = 'bilevel_opt_result/{}_{}/{}_{}.pkl'.format(new_solver_name, model_name, num_x, num_heaters)\n",
    "                pickle.dump(opt_result_log, open(saved_path, 'wb'))\n",
    "                \n",
    "                optimal_log_path = 'design_opt_experiment/{}/optimal/{}_{}/optimal_experiment_result_{}_1.0_{}.pkl'.format(solver_name, num_x, num_heaters, model_name, design_opt_log['best_idx'][0])\n",
    "                optimal_log = pickle.load(open(optimal_log_path, 'rb'))\n",
    "                \n",
    "                saved_path = 'bilevel_opt_result/optimal/{}_{}/optimal_result_{}_{}.pkl'.format(new_solver_name, model_name, num_x, num_heaters)\n",
    "                pickle.dump(optimal_log, open(saved_path, 'wb'))\n",
    "                \n",
    "                config_path = 'design_opt_experiment/{}/optimal/{}_{}/mpc_config_{}_1.0_{}.pkl'.format(solver_name, num_x, num_heaters, model_name, design_opt_log['best_idx'][0])\n",
    "                config = pickle.load(open(config_path, 'rb'))\n",
    "                \n",
    "                saved_path = 'bilevel_opt_result/optimal/{}_{}/mpc_config_{}_{}.pkl'.format(new_solver_name, model_name, num_x, num_heaters)\n",
    "                pickle.dump(config, open(saved_path, 'wb'))"
   ]
  },
  {
   "cell_type": "code",
   "execution_count": 32,
   "id": "726edd42",
   "metadata": {},
   "outputs": [],
   "source": [
    "solver_names = ['direct']\n",
    "new_solver_names = ['single_layer']\n",
    "\n",
    "for (solver_name, new_solver_name) in zip(solver_names, new_solver_names):\n",
    "    for model_name in model_names:\n",
    "        if not os.path.exists('bilevel_opt_result/{}_{}'.format(new_solver_name, model_name)):\n",
    "            os.makedirs('bilevel_opt_result/{}_{}'.format(new_solver_name, model_name))\n",
    "        if not os.path.exists('bilevel_opt_result/optimal/{}_{}'.format(new_solver_name, model_name)):\n",
    "            os.makedirs('bilevel_opt_result/optimal/{}_{}'.format(new_solver_name, model_name))\n",
    "        for num_x in num_x_list:\n",
    "            for num_heaters in num_heaters_list:            \n",
    "                design_opt_log = {}\n",
    "                design_opt_log['total_loss_trajectory'] = []\n",
    "                design_opt_log['position_trajectory'] = []\n",
    "                design_opt_log['us_trajectory'] = []\n",
    "                design_opt_log['best_idx'] = None\n",
    "                design_opt_log['best_loss'] = float('inf')\n",
    "                design_opt_log['best_position'] = []\n",
    "                design_opt_log['best_us'] = []\n",
    "                \n",
    "                for idx in range(num_repeats):\n",
    "                    design_opt_experiment_path = 'design_opt_experiment/{}/{}_{}/design_opt_experiment_result_{}_1.0_{}.pkl'.format(solver_name, num_x, num_heaters, model_name, idx)\n",
    "                    design_opt_experiment = pickle.load(open(design_opt_experiment_path, 'rb'))['design_opt_log']                    \n",
    "                    design_opt_log['total_loss_trajectory'].append(design_opt_experiment['total_loss_trajectory'])\n",
    "                    design_opt_log['position_trajectory'].append(design_opt_experiment['position_trajectory'])\n",
    "                    design_opt_log['us_trajectory'].append(design_opt_experiment['us_trajectory'])\n",
    "                    if design_opt_experiment['best_loss'] < design_opt_log['best_loss']:\n",
    "                        design_opt_log['best_loss'] = design_opt_experiment['best_loss']\n",
    "                        design_opt_log['best_idx'] = np.array([idx, design_opt_experiment['best_idx']])\n",
    "                    design_opt_log['best_position'].append(design_opt_experiment['best_position'])\n",
    "                    design_opt_log['best_us'].append(design_opt_experiment['best_us'])\n",
    "                \n",
    "                design_opt_log['total_loss_trajectory'] = np.stack(design_opt_log['total_loss_trajectory'], axis=1)\n",
    "                design_opt_log['position_trajectory'] = np.stack(design_opt_log['position_trajectory'], axis=1)\n",
    "                design_opt_log['us_trajectory'] = np.stack(design_opt_log['us_trajectory'], axis=1)\n",
    "                design_opt_log['best_position'].append(design_opt_experiment['best_position'])\n",
    "                design_opt_log['best_us'].append(design_opt_experiment['best_us'])\n",
    "                \n",
    "                design_opt_experiment_path = 'design_opt_experiment/{}/{}_{}/design_opt_experiment_result_{}_1.0_{}.pkl'.format(solver_name, num_x, num_heaters, model_name, design_opt_log['best_idx'][0])\n",
    "                design_opt_experiment = pickle.load(open(design_opt_experiment_path, 'rb'))\n",
    "                \n",
    "                opt_action_pos = design_opt_experiment['optimized_graph'].nodes['action'].data['pos']\n",
    "                opt_result_log = {\n",
    "                    'opt_action_pos': opt_action_pos,\n",
    "                    'design_opt_log': design_opt_log\n",
    "                }                \n",
    "                saved_path = 'bilevel_opt_result/{}_{}/{}_{}.pkl'.format(new_solver_name, model_name, num_x, num_heaters)\n",
    "                pickle.dump(opt_result_log, open(saved_path, 'wb'))\n",
    "                \n",
    "                optimal_log_path = 'design_opt_experiment/{}/optimal/{}_{}/optimal_experiment_result_{}_1.0.pkl'.format(solver_name, num_x, num_heaters, model_name)\n",
    "                optimal_log = pickle.load(open(optimal_log_path, 'rb'))\n",
    "                \n",
    "                saved_path = 'bilevel_opt_result/optimal/{}_{}/optimal_result_{}_{}.pkl'.format(new_solver_name, model_name, num_x, num_heaters)\n",
    "                pickle.dump(optimal_log, open(saved_path, 'wb'))\n",
    "                \n",
    "                config_path = 'design_opt_experiment/{}/optimal/{}_{}/mpc_config_{}_1.0.pkl'.format(solver_name, num_x, num_heaters, model_name)\n",
    "                config = pickle.load(open(config_path, 'rb'))\n",
    "                \n",
    "                saved_path = 'bilevel_opt_result/optimal/{}_{}/mpc_config_{}_{}.pkl'.format(new_solver_name, model_name, num_x, num_heaters)\n",
    "                pickle.dump(config, open(saved_path, 'wb'))"
   ]
  },
  {
   "cell_type": "code",
   "execution_count": 1,
   "id": "86e60fe6",
   "metadata": {
    "scrolled": true
   },
   "outputs": [],
   "source": [
    "import pickle\n",
    "import torch\n",
    "\n",
    "solver_name = 'cma_es'\n",
    "\n",
    "num_x_list = [3, 4, 5]\n",
    "num_heaters_list = [5, 10, 15, 20]\n",
    "for num_x in num_x_list:\n",
    "    for num_heaters in num_heaters_list:\n",
    "        path = 'bilevel_opt_result/{}/{}_{}.pkl'.format(solver_name, num_x, num_heaters)\n",
    "        bilevel_opt_result = pickle.load(open(path, 'rb'))\n",
    "        # bilevel_opt_result['opt_action_pos'] = bilevel_opt_result['opt_action_pos'].cpu().detach().numpy()\n",
    "        bilevel_opt_result['opt_log']['best_position'] = bilevel_opt_result['opt_log']['best_position'].cpu().detach().numpy()\n",
    "        pickle.dump(bilevel_opt_result, open(path, 'wb'))"
   ]
  },
  {
   "cell_type": "code",
   "execution_count": 37,
   "id": "0444fa75",
   "metadata": {},
   "outputs": [
    {
     "name": "stdout",
     "output_type": "stream",
     "text": [
      "dict_keys(['opt_action_pos', 'opt_log'])\n",
      "<class 'numpy.ndarray'>\n"
     ]
    }
   ],
   "source": [
    "num_x = 3\n",
    "num_heaters = 5\n",
    "path = 'bilevel_opt_result/{}/{}_{}.pkl'.format(solver_name, num_x, num_heaters)\n",
    "bilevel_opt_result = pickle.load(open(path, 'rb'))\n",
    "\n",
    "print(bilevel_opt_result.keys())\n",
    "print(type(bilevel_opt_result['opt_action_pos']))\n",
    "opt_log = bilevel_opt_result['opt_log']"
   ]
  },
  {
   "cell_type": "code",
   "execution_count": 39,
   "id": "7f0c4990",
   "metadata": {},
   "outputs": [
    {
     "name": "stdout",
     "output_type": "stream",
     "text": [
      "total_loss_trajectory\n",
      "<class 'numpy.ndarray'>\n",
      "position_trajectory\n",
      "<class 'numpy.ndarray'>\n",
      "us_trajectory\n",
      "<class 'numpy.ndarray'>\n",
      "lower_level_log_trajectory\n",
      "<class 'list'>\n",
      "best_idx\n",
      "<class 'int'>\n",
      "best_loss\n",
      "<class 'numpy.float64'>\n",
      "best_position\n",
      "<class 'torch.Tensor'>\n",
      "best_us\n",
      "<class 'numpy.ndarray'>\n"
     ]
    }
   ],
   "source": [
    "for key in opt_log.keys():\n",
    "    print(key)\n",
    "    print(type(opt_log[key]))"
   ]
  },
  {
   "cell_type": "code",
   "execution_count": 40,
   "id": "e2c58345",
   "metadata": {},
   "outputs": [
    {
     "name": "stdout",
     "output_type": "stream",
     "text": [
      "cuda:0\n"
     ]
    }
   ],
   "source": [
    "print(opt_log['best_position'].device)"
   ]
  },
  {
   "cell_type": "code",
   "execution_count": 46,
   "id": "5cea1fec",
   "metadata": {},
   "outputs": [],
   "source": [
    "lower_level_log = opt_log['lower_level_log_trajectory'][0][0]"
   ]
  },
  {
   "cell_type": "code",
   "execution_count": 49,
   "id": "7278093c",
   "metadata": {},
   "outputs": [
    {
     "name": "stdout",
     "output_type": "stream",
     "text": [
      "target_xs\n",
      "<class 'numpy.ndarray'>\n",
      "individual_loss\n",
      "<class 'numpy.ndarray'>\n",
      "total_loss\n",
      "<class 'numpy.ndarray'>\n",
      "time\n",
      "<class 'numpy.ndarray'>\n",
      "total_runtime\n",
      "<class 'float'>\n",
      "best_idx\n",
      "<class 'numpy.ndarray'>\n",
      "best_us\n",
      "<class 'numpy.ndarray'>\n",
      "best_loss\n",
      "<class 'numpy.float64'>\n"
     ]
    }
   ],
   "source": [
    "for key in lower_level_log.keys():\n",
    "    print(key)\n",
    "    print(type(lower_level_log[key]))"
   ]
  },
  {
   "cell_type": "code",
   "execution_count": null,
   "id": "e4462f86",
   "metadata": {},
   "outputs": [],
   "source": []
  }
 ],
 "metadata": {
  "kernelspec": {
   "display_name": "Python 3 (ipykernel)",
   "language": "python",
   "name": "python3"
  },
  "language_info": {
   "codemirror_mode": {
    "name": "ipython",
    "version": 3
   },
   "file_extension": ".py",
   "mimetype": "text/x-python",
   "name": "python",
   "nbconvert_exporter": "python",
   "pygments_lexer": "ipython3",
   "version": "3.9.13"
  }
 },
 "nbformat": 4,
 "nbformat_minor": 5
}
